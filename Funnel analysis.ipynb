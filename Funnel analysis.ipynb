{
 "cells": [
  {
   "cell_type": "code",
   "execution_count": 47,
   "metadata": {},
   "outputs": [],
   "source": [
    "import pandas as pd\n",
    "import matplotlib.pyplot as plt\n",
    "import seaborn as sns\n",
    "%matplotlib inline\n",
    "user = pd.read_csv(\"user_table.csv\")\n",
    "home = pd.read_csv(\"home_page_table.csv\")\n",
    "payment = pd.read_csv(\"payment_page_table.csv\")\n",
    "search = pd.read_csv(\"search_page_table.csv\")\n",
    "pay_conf = pd.read_csv(\"payment_confirmation_table.csv\")"
   ]
  },
  {
   "cell_type": "code",
   "execution_count": 89,
   "metadata": {},
   "outputs": [
    {
     "name": "stdout",
     "output_type": "stream",
     "text": [
      "(90400, 4)\n",
      "(90400, 2)\n",
      "90400\n",
      "90400\n"
     ]
    },
    {
     "data": {
      "text/plain": [
       "100.0"
      ]
     },
     "execution_count": 89,
     "metadata": {},
     "output_type": "execute_result"
    }
   ],
   "source": [
    "#conversion rate from user to home page\n",
    "print(user.shape)\n",
    "print(home.shape)\n",
    "print(user['user_id'].nunique())\n",
    "print(home['user_id'].nunique())\n",
    "user_home = user.merge(home, on = 'user_id', how = 'right')\n",
    "con_ratuh = (home['user_id'].nunique()/user['user_id'].nunique())*100\n",
    "con_ratuh\n",
    "#As the values are same so the data in the user table those user id are there in home page as well so conversion rate is 100%"
   ]
  },
  {
   "cell_type": "code",
   "execution_count": 34,
   "metadata": {},
   "outputs": [
    {
     "data": {
      "text/plain": [
       "50.0"
      ]
     },
     "execution_count": 34,
     "metadata": {},
     "output_type": "execute_result"
    }
   ],
   "source": [
    "#conversion rate from home to search\n",
    "con_ratehs = (search['user_id'].nunique()/home['user_id'].nunique())*100\n",
    "con_ratehs"
   ]
  },
  {
   "cell_type": "markdown",
   "metadata": {},
   "source": [
    "conversion rate is 50% for the people who went to search form home"
   ]
  },
  {
   "cell_type": "markdown",
   "metadata": {},
   "source": [
    "Search to Payment"
   ]
  },
  {
   "cell_type": "code",
   "execution_count": 43,
   "metadata": {},
   "outputs": [
    {
     "name": "stdout",
     "output_type": "stream",
     "text": [
      "(45200, 2)\n",
      "(6030, 2)\n",
      "45200\n",
      "6030\n"
     ]
    },
    {
     "data": {
      "text/plain": [
       "(6030, 3)"
      ]
     },
     "execution_count": 43,
     "metadata": {},
     "output_type": "execute_result"
    }
   ],
   "source": [
    "#trying to find the shape and the unique no of values in both the user_id columns of table\n",
    "print(search.shape)\n",
    "print(payment.shape)\n",
    "print(search['user_id'].nunique())\n",
    "print(payment['user_id'].nunique())\n",
    "#merging the tables to check the  how many user id are same in both the tables\n",
    "paym_search = payment.merge(search, left_on = 'user_id', right_on = 'user_id')\n",
    "# even after meerging the rows are same as that in  payment page so means the data \n",
    "#is consistent the users in search are there in payment\n",
    "paym_search.shape"
   ]
  },
  {
   "cell_type": "code",
   "execution_count": 65,
   "metadata": {},
   "outputs": [
    {
     "name": "stdout",
     "output_type": "stream",
     "text": [
      "13.34\n"
     ]
    }
   ],
   "source": [
    "##conversion rate from Search to payment_page_table\n",
    "cosepay = (payment['user_id'].nunique()/search['user_id'].nunique())*100\n",
    "cousepay = round(cosepay,2)\n",
    "print(cousepay)\n"
   ]
  },
  {
   "cell_type": "markdown",
   "metadata": {},
   "source": [
    "payment to payment_confirmation\n"
   ]
  },
  {
   "cell_type": "code",
   "execution_count": 45,
   "metadata": {},
   "outputs": [
    {
     "name": "stdout",
     "output_type": "stream",
     "text": [
      "(6030, 2)\n",
      "(452, 2)\n",
      "6030\n",
      "452\n",
      "(452, 3)\n"
     ]
    }
   ],
   "source": [
    "#trying to find the shape and the unique no of values in both the user_id columns of table\n",
    "print(payment.shape)\n",
    "print(pay_conf.shape)\n",
    "print(payment['user_id'].nunique())\n",
    "print(pay_conf['user_id'].nunique())\n",
    "#merging the tables to check the  how many user id are same in both the tables\n",
    "payment_conf = payment.merge(pay_conf, left_on = 'user_id', right_on = 'user_id')\n",
    "# even after meerging the rows are same as that in  payment page so means the data \n",
    "#is consistent the users in payment_conf are there in payment\n",
    "print(payment_conf.shape)"
   ]
  },
  {
   "cell_type": "code",
   "execution_count": 66,
   "metadata": {},
   "outputs": [
    {
     "name": "stdout",
     "output_type": "stream",
     "text": [
      "7.5\n"
     ]
    }
   ],
   "source": [
    "##conversion rate from payment_page_table to payment_confirmtion_table\n",
    "copayc = (pay_conf['user_id'].nunique()/payment['user_id'].nunique())*100\n",
    "copayc = round(copayc,2)\n",
    "print(copayc)\n"
   ]
  },
  {
   "cell_type": "code",
   "execution_count": 90,
   "metadata": {},
   "outputs": [],
   "source": [
    "#graph plot to compare the no of people visiting the pages\n",
    "pages = ['home','search','payment','payment_conf']\n",
    "ht = home['user_id'].nunique()\n",
    "st = search['user_id'].nunique()\n",
    "pt = payment['user_id'].nunique()\n",
    "payc = pay_conf['user_id'].nunique()\n",
    "no_users = [ht,st,pt,payc]\n",
    "convrate = [con_ratuh,con_ratehs,cosepay,copayc]\n",
    "\n"
   ]
  },
  {
   "cell_type": "code",
   "execution_count": 94,
   "metadata": {},
   "outputs": [
    {
     "data": {
      "image/png": "[encoded data removed]",
      "text/plain": [
       "<Figure size 720x432 with 2 Axes>"
      ]
     },
     "metadata": {
      "needs_background": "light"
     },
     "output_type": "display_data"
    }
   ],
   "source": [
    "#create combo plot\n",
    "fig,ax1 = plt.subplots(figsize = (10,6))\n",
    "#bar plot creation\n",
    "ax1.set_title('No of users in pages', fontsize=16)\n",
    "ax1.set_xlabel('Pages', fontsize=16)\n",
    "ax1.set_ylabel('No of Users', fontsize=16)\n",
    "ax1 = sns.barplot(pages, no_users, palette='summer')\n",
    "#for the same x axis\n",
    "ax2 = ax1.twinx()\n",
    "color = 'tab:red'\n",
    "ax2.set_ylabel('conversion rate%', fontsize=16)\n",
    "ax2 = sns.lineplot(x= pages,y = convrate,sort = False, color=color)\n",
    "plt.savefig(\"Comparison of users and the conversion rate\")\n",
    "plt.show()\n"
   ]
  },
  {
   "cell_type": "code",
   "execution_count": null,
   "metadata": {},
   "outputs": [],
   "source": []
  }
 ],
 "metadata": {
  "kernelspec": {
   "display_name": "Python 3",
   "language": "python",
   "name": "python3"
  },
  "language_info": {
   "codemirror_mode": {
    "name": "ipython",
    "version": 3
   },
   "file_extension": ".py",
   "mimetype": "text/x-python",
   "name": "python",
   "nbconvert_exporter": "python",
   "pygments_lexer": "ipython3",
   "version": "3.8.3"
  }
 },
 "nbformat": 4,
 "nbformat_minor": 4
}
